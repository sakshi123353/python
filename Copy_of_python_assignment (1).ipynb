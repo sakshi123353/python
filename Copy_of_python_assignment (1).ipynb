{
  "nbformat": 4,
  "nbformat_minor": 0,
  "metadata": {
    "colab": {
      "provenance": []
    },
    "kernelspec": {
      "name": "python3",
      "display_name": "Python 3"
    },
    "language_info": {
      "name": "python"
    }
  },
  "cells": [
    {
      "cell_type": "markdown",
      "source": [
        "1. what is python and why is it popular?\n",
        "   - Python is a general-purpose programming language created by Guido van Rossum in the 1980s. It is incredibly versatile, flexible, and beginner-friendly; hence is 2023's most popular programming language worldwide. Python is the most popular yet easiest programming language to learn."
      ],
      "metadata": {
        "id": "ufNSWYUeMUuM"
      }
    },
    {
      "cell_type": "markdown",
      "source": [
        "2.  What is an interpreter in Python?\n",
        "    - A python interpreter is a computer program that converts each high-level program statement into machine code. An interpreter translates the command that you write out into code that the computer can understand.\n",
        "\n",
        "\n"
      ],
      "metadata": {
        "id": "ad-oywIVPNtO"
      }
    },
    {
      "cell_type": "markdown",
      "source": [
        "3. What are pre-defined keywords in Python ?\n",
        "   - Keywords are predefined, reserved identifiers that have special meanings to the compiler. They can't be used as identifiers in your program unless they include @ as a prefix. For example, @if is a valid identifier, but if isn't because if is a keyword.\n",
        "\n"
      ],
      "metadata": {
        "id": "UdjGUEs4RZVr"
      }
    },
    {
      "cell_type": "markdown",
      "source": [
        "4.  Can keywords be used as variable names?\n",
        "\n",
        "    -Keywords in Python are reserved words that have special meanings and serve specific purposes in the language syntax. Python keywords cannot be used as the names of variables, functions, and classes or any other identifier.\n"
      ],
      "metadata": {
        "id": "UnJmluu4R0AD"
      }
    },
    {
      "cell_type": "markdown",
      "source": [
        "5. What is mutability in Python?    \n",
        "   - In Python, mutability refers to the capability of an object to be changed or modified after its creation. In Python, lists are a widely used data structure that allows the storage and manipulation of a collection of items.\n",
        "\n"
      ],
      "metadata": {
        "id": "esG6uvFxT3Jd"
      }
    },
    {
      "cell_type": "markdown",
      "source": [
        "6. Why are lists mutable, but tuples are immutable?\n",
        "  - The main difference between tuples and lists is that tuples are immutable, meaning their contents cannot be changed after creation, while lists are mutable and can be modified. Additionally, tuples are more memory-efficient compared to lists. Tuples can't be changed after they're created, but lists can be modified.\n",
        "\n"
      ],
      "metadata": {
        "id": "vPJ8e0zRUQcx"
      }
    },
    {
      "cell_type": "markdown",
      "source": [
        "7.  What is the difference between “==” and “is” operators in Python?\n",
        "    \n",
        "    - In Python, == and is operators are both used for comparison but they serve different purposes. The == operator checks for equality of values which means it evaluates whether the values of two objects are the same. On the other hand, is operator checks for identity, meaning it determines whether two variables point to the same object in memory.\n",
        "\n",
        "\n"
      ],
      "metadata": {
        "id": "nDe672psUpdb"
      }
    },
    {
      "cell_type": "markdown",
      "source": [
        "8. What are logical operators in Python?\n",
        "    - In Python, logical operators are used to combine multiple conditions together and evaluate them as a single boolean expression. There are three types of logical operators in Python: `and`, `or`, and `not`. The `and` operator returns `True` if both conditions it is evaluating are true, otherwise it returns `False`.\n",
        "    \n"
      ],
      "metadata": {
        "id": "JgpCMNFnW2bj"
      }
    },
    {
      "cell_type": "markdown",
      "source": [
        "9. What is type casting in Python?\n",
        "   - Type casting, also known as type conversion, is the process of converting one data type into another. Ex: you want to change the data type of a variable from an integer 2 to a float 2.0. This is a case where you'd use type casting.9 Jan 2024\n"
      ],
      "metadata": {
        "id": "9OLVjLvNWuZT"
      }
    },
    {
      "cell_type": "markdown",
      "source": [
        "10. What is the difference between implicit and explicit type casting?\n",
        "    - In TypeScript, there are two ways to define the type of a variable: explicitly and implicitly.\n",
        "\n"
      ],
      "metadata": {
        "id": "FnQuhPsqTwrP"
      }
    },
    {
      "cell_type": "markdown",
      "source": [
        "11. What is the purpose of conditional statements in Python?\n",
        "   - Conditional statements are an essential part of programming in Python. They allow you to make decisions based on the values of variables or the result of comparisons. In this article, we'll explore how to use if, else, and elif statements in Python, along with some examples of how to use them in practice.\n"
      ],
      "metadata": {
        "id": "L7WBKNb7VOvh"
      }
    },
    {
      "cell_type": "markdown",
      "source": [
        "12. How does the elif statement work?\n",
        "    - The “elif” keyword in Python, stands for “else if”. It can be used in conditional statements to check for multiple conditions. For example, if the first condition is false, it moves on to the next “elif” statement to check if that condition is true.\n"
      ],
      "metadata": {
        "id": "9XR3vY3TWLFL"
      }
    },
    {
      "cell_type": "markdown",
      "source": [
        "13. What is the difference between for and while loops?\n",
        "    - 'For' and 'while' loops are two of the most fundamental iterative operations in programming. Although they share similarities, they have distinct mechanics and applications. This article explores the core differences between these two types of loops and their ideal use cases. Whether you're a novice coder or an experienced developer, comprehending these differences is essential for making informed decisions about loop usage in various programming scenarios.\n",
        "\n"
      ],
      "metadata": {
        "id": "700yLmvqWjmp"
      }
    },
    {
      "cell_type": "markdown",
      "source": [
        "14.Describe a scenario where a while loop is more suitable than a for loop?\n",
        "  - In contrast to a 'for' loop, which is generally used when the number of iterations is known beforehand, a 'while' loop is ideal for situations where the number of iterations is not predetermined and depends on some dynamic condition."
      ],
      "metadata": {
        "id": "u8gs4Xvya6Li"
      }
    },
    {
      "cell_type": "code",
      "source": [
        "print(\"Hellp world\")\n",
        "\n",
        "\n"
      ],
      "metadata": {
        "id": "7h4auHLspnSO",
        "colab": {
          "base_uri": "https://localhost:8080/"
        },
        "outputId": "1126737f-f262-4e2c-a0bc-f69cf9066c43"
      },
      "execution_count": null,
      "outputs": [
        {
          "output_type": "stream",
          "name": "stdout",
          "text": [
            "Hellp world\n"
          ]
        }
      ]
    },
    {
      "cell_type": "code",
      "source": [
        "# Define your name and age\n",
        "name = \"John Doe\"\n",
        "age = 25\n",
        "\n",
        "# Display the information\n",
        "print(\"Name:\", name)\n",
        "print(\"Age:\", age)\n"
      ],
      "metadata": {
        "colab": {
          "base_uri": "https://localhost:8080/"
        },
        "id": "DFfLkMZC4usf",
        "outputId": "5524dac9-f61c-493c-80b8-a8231eb72eee"
      },
      "execution_count": null,
      "outputs": [
        {
          "output_type": "stream",
          "name": "stdout",
          "text": [
            "Name: John Doe\n",
            "Age: 25\n"
          ]
        }
      ]
    },
    {
      "cell_type": "code",
      "source": [
        "# Print all the keywords in Python\n",
        "print(keyword.kwlist)\n"
      ],
      "metadata": {
        "colab": {
          "base_uri": "https://localhost:8080/"
        },
        "id": "v3cG2yEG4_W2",
        "outputId": "a679f2ff-e2af-4a11-d4a9-fea8dbb04d78"
      },
      "execution_count": null,
      "outputs": [
        {
          "output_type": "stream",
          "name": "stdout",
          "text": [
            "['False', 'None', 'True', 'and', 'as', 'assert', 'async', 'await', 'break', 'class', 'continue', 'def', 'del', 'elif', 'else', 'except', 'finally', 'for', 'from', 'global', 'if', 'import', 'in', 'is', 'lambda', 'nonlocal', 'not', 'or', 'pass', 'raise', 'return', 'try', 'while', 'with', 'yield']\n"
          ]
        }
      ]
    },
    {
      "cell_type": "code",
      "source": [
        "import keyword\n",
        "\n",
        "def is_python_keyword(word):\n",
        "    return word in keyword.kwlist\n",
        "\n",
        "def main():\n",
        "    word = input(\"Enter a word to check if it is a Python keyword: \")\n",
        "    if is_python_keyword(word):\n",
        "        print(f'\"{word}\" is a Python keyword.')\n",
        "    else:\n",
        "        print(f'\"{word}\" is not a Python keyword.')\n",
        "\n",
        "if __name__ == \"__main__\":\n",
        "    main()"
      ],
      "metadata": {
        "id": "OVtGHM8WCLoB",
        "colab": {
          "base_uri": "https://localhost:8080/"
        },
        "outputId": "96a551e8-77b3-423a-ad60-497b12e79104"
      },
      "execution_count": null,
      "outputs": [
        {
          "output_type": "stream",
          "name": "stdout",
          "text": [
            "Enter a word to check if it is a Python keyword: if\n",
            "\"if\" is a Python keyword.\n"
          ]
        }
      ]
    },
    {
      "cell_type": "code",
      "source": [
        "# Creating a list\n",
        "my_list = [1, 2, 3, 4, 5]\n",
        "print(\"Original list:\", my_list)\n",
        "\n",
        "# Attempting to change an element in the list\n",
        "my_list[2] = 10  # Changing the 3rd element (index 2)\n",
        "print(\"Modified list:\", my_list)\n",
        "\n",
        "# Creating a tuple\n",
        "my_tuple = (1, 2, 3, 4, 5)\n",
        "print(\"Original tuple:\", my_tuple)\n",
        "\n",
        "# Attempting to change an element in the tuple (will cause an error)\n",
        "try:\n",
        "    my_tuple[2] = 10  # Trying to modify the 3rd element\n",
        "except TypeError as e:\n",
        "    print(\"Error when trying to modify tuple:\", e)\n"
      ],
      "metadata": {
        "colab": {
          "base_uri": "https://localhost:8080/"
        },
        "id": "7Fl_VaY3sAY4",
        "outputId": "8ab4745f-4541-4902-cf85-c5b365f66b27"
      },
      "execution_count": null,
      "outputs": [
        {
          "output_type": "stream",
          "name": "stdout",
          "text": [
            "Original list: [1, 2, 3, 4, 5]\n",
            "Modified list: [1, 2, 10, 4, 5]\n",
            "Original tuple: (1, 2, 3, 4, 5)\n",
            "Error when trying to modify tuple: 'tuple' object does not support item assignment\n"
          ]
        }
      ]
    },
    {
      "cell_type": "code",
      "source": [
        "def demonstrate_mutable_immutable():\n",
        "    # Immutable argument (tuple)\n",
        "    def modify_immutable(immutable_arg):\n",
        "        print(\"Before modification (immutable):\", immutable_arg)\n",
        "        # This will not change the original tuple because tuples are immutable\n",
        "        immutable_arg = immutable_arg + (4,)\n",
        "        print(\"After modification (immutable):\", immutable_arg)\n",
        "\n",
        "    # Mutable argument (list)\n",
        "    def modify_mutable(mutable_arg):\n",
        "        print(\"Before modification (mutable):\", mutable_arg)\n",
        "        # This will change the original list because lists are mutable\n",
        "        mutable_arg.append(4)\n",
        "        print(\"After modification (mutable):\", mutable_arg)\n",
        "\n",
        "    # Demonstrating immutable argument\n",
        "    immutable = (1, 2, 3)  # Tuple (immutable)\n",
        "    modify_immutable(immutable)\n",
        "    print(\"Original immutable after function call:\", immutable)\n",
        "\n",
        "    print(\"-\" * 50)\n",
        "\n",
        "    # Demonstrating mutable argument\n",
        "    mutable = [1, 2, 3]  # List (mutable)\n",
        "    modify_mutable(mutable)\n",
        "    print(\"Original mutable after function call:\", mutable)\n",
        "\n",
        "# Run the demonstration\n",
        "demonstrate_mutable_immutable()\n"
      ],
      "metadata": {
        "colab": {
          "base_uri": "https://localhost:8080/"
        },
        "id": "2fHXxFA4sDxV",
        "outputId": "c99169cf-b7a8-4bfb-a06e-ba52b5ad4e47"
      },
      "execution_count": null,
      "outputs": [
        {
          "output_type": "stream",
          "name": "stdout",
          "text": [
            "Before modification (immutable): (1, 2, 3)\n",
            "After modification (immutable): (1, 2, 3, 4)\n",
            "Original immutable after function call: (1, 2, 3)\n",
            "--------------------------------------------------\n",
            "Before modification (mutable): [1, 2, 3]\n",
            "After modification (mutable): [1, 2, 3, 4]\n",
            "Original mutable after function call: [1, 2, 3, 4]\n"
          ]
        }
      ]
    },
    {
      "cell_type": "code",
      "source": [
        "def demonstrate_mutable_immutable(mutable_arg, immutable_arg):\n",
        "    print(f\"Before modification - mutable_arg: {mutable_arg}, immutable_arg: {immutable_arg}\")\n",
        "\n",
        "    # Modifying mutable argument\n",
        "    mutable_arg.append(100)\n",
        "\n",
        "    # Modifying immutable argument (we can't modify it, so we \"change\" it by reassigning)\n",
        "    immutable_arg = 42\n",
        "\n",
        "    print(f\"After modification - mutable_arg: {mutable_arg}, immutable_arg: {immutable_arg}\")\n",
        "\n",
        "# Test with mutable and immutable arguments\n",
        "my_list = [1, 2, 3]\n",
        "my_int = 10\n",
        "\n",
        "demonstrate_mutable_immutable(my_list, my_int)\n"
      ],
      "metadata": {
        "colab": {
          "base_uri": "https://localhost:8080/"
        },
        "id": "5_Cn9bFLslqz",
        "outputId": "c4891a5a-7f5e-4076-8f34-02476d6a4416"
      },
      "execution_count": null,
      "outputs": [
        {
          "output_type": "stream",
          "name": "stdout",
          "text": [
            "Before modification - mutable_arg: [1, 2, 3], immutable_arg: 10\n",
            "After modification - mutable_arg: [1, 2, 3, 100], immutable_arg: 42\n"
          ]
        }
      ]
    },
    {
      "cell_type": "code",
      "source": [
        "# Define some sample variables\n",
        "x = 5\n",
        "y = 10\n",
        "z = 15\n",
        "\n",
        "# Using the 'and' logical operator\n",
        "print(\"Using 'and' operator:\")\n",
        "if x < y and y < z:\n",
        "    print(f\"{x} is less than {y} AND {y} is less than {z}. Condition is True.\")\n",
        "else:\n",
        "    print(f\"Condition is False.\")\n",
        "\n",
        "# Using the 'or' logical operator\n",
        "print(\"\\nUsing 'or' operator:\")\n",
        "if x > y or y < z:\n",
        "    print(f\"Either {x} is greater than {y} OR {y} is less than {z}. Condition is True.\")\n",
        "else:\n",
        "    print(f\"Condition is False.\")\n",
        "\n",
        "# Using the 'not' logical operator\n",
        "print(\"\\nUsing 'not' operator:\")\n",
        "if not x > y:\n",
        "    print(f\"NOT {x} is greater than {y}. Condition is True.\")\n",
        "else:\n",
        "    print(f\"Condition is False.\")\n",
        "\n",
        "# Combine 'and', 'or', and 'not'\n",
        "print(\"\\nUsing combination of 'and', 'or', and 'not':\")\n",
        "if (x < y or z > y) and not (x == z):\n",
        "    print(f\"Condition is True.\")\n",
        "else:\n",
        "    print(f\"Condition is False.\")\n"
      ],
      "metadata": {
        "colab": {
          "base_uri": "https://localhost:8080/"
        },
        "id": "FYeKIiZXssSp",
        "outputId": "70caadea-01d3-42e0-f17f-f34b73e9ffa3"
      },
      "execution_count": null,
      "outputs": [
        {
          "output_type": "stream",
          "name": "stdout",
          "text": [
            "Using 'and' operator:\n",
            "5 is less than 10 AND 10 is less than 15. Condition is True.\n",
            "\n",
            "Using 'or' operator:\n",
            "Either 5 is greater than 10 OR 10 is less than 15. Condition is True.\n",
            "\n",
            "Using 'not' operator:\n",
            "NOT 5 is greater than 10. Condition is True.\n",
            "\n",
            "Using combination of 'and', 'or', and 'not':\n",
            "Condition is True.\n"
          ]
        }
      ]
    },
    {
      "cell_type": "code",
      "source": [
        "# Taking user input as a string\n",
        "user_input = input(\"Enter a value: \")\n",
        "\n",
        "# Converting the input to integer, float, and boolean types\n",
        "try:\n",
        "    # Integer conversion\n",
        "    user_int = int(user_input)\n",
        "    print(f\"Converted to integer: {user_int}\")\n",
        "except ValueError:\n",
        "    print(\"The input cannot be converted to an integer.\")\n",
        "\n",
        "try:\n",
        "    # Float conversion\n",
        "    user_float = float(user_input)\n",
        "    print(f\"Converted to float: {user_float}\")\n",
        "except ValueError:\n",
        "    print(\"The input cannot be converted to a float.\")\n",
        "\n",
        "# Boolean conversion\n",
        "# For boolean, empty string is False, non-empty string is True\n",
        "user_bool = bool(user_input)\n",
        "print(f\"Converted to boolean: {user_bool}\")\n"
      ],
      "metadata": {
        "colab": {
          "base_uri": "https://localhost:8080/"
        },
        "id": "9mmjUssvs8um",
        "outputId": "24593702-85d0-441b-ca4a-982f57c0e6c9"
      },
      "execution_count": null,
      "outputs": [
        {
          "output_type": "stream",
          "name": "stdout",
          "text": [
            "Enter a value: not\n",
            "The input cannot be converted to an integer.\n",
            "The input cannot be converted to a float.\n",
            "Converted to boolean: True\n"
          ]
        }
      ]
    },
    {
      "cell_type": "code",
      "source": [
        "# Original list with elements of different types\n",
        "my_list = [\"123\", \"45.67\", \"True\", 89]\n",
        "\n",
        "# Type casting each element to a specific type\n",
        "int_list = [int(x) if isinstance(x, str) and x.isdigit() else x for x in my_list]  # Cast strings of digits to integers\n",
        "float_list = [float(x) if isinstance(x, str) and x.replace('.', '', 1).isdigit() else x for x in my_list]  # Cast valid numeric strings to floats\n",
        "bool_list = [bool(x) if isinstance(x, str) and x.lower() == 'true' else x for x in my_list]  # Cast 'True' or 'False' string to boolean\n",
        "\n",
        "# Print results\n",
        "print(\"Original List:\", my_list)\n",
        "print(\"List with integer casting:\", int_list)\n",
        "print(\"List with float casting:\", float_list)\n",
        "print(\"List with boolean casting:\", bool_list)\n"
      ],
      "metadata": {
        "colab": {
          "base_uri": "https://localhost:8080/"
        },
        "id": "hUw8wU2PtUu2",
        "outputId": "c101bbbb-fb3e-4ceb-a65e-f1bf8809aef0"
      },
      "execution_count": null,
      "outputs": [
        {
          "output_type": "stream",
          "name": "stdout",
          "text": [
            "Original List: ['123', '45.67', 'True', 89]\n",
            "List with integer casting: [123, '45.67', 'True', 89]\n",
            "List with float casting: [123.0, 45.67, 'True', 89]\n",
            "List with boolean casting: ['123', '45.67', True, 89]\n"
          ]
        }
      ]
    },
    {
      "cell_type": "code",
      "source": [
        "# Function to check if the number is positive, negative, or zero\n",
        "def check_number(num):\n",
        "    if num > 0:\n",
        "        return \"The number is positive.\"\n",
        "    elif num < 0:\n",
        "        return \"The number is negative.\"\n",
        "    else:\n",
        "        return \"The number is zero.\"\n",
        "\n",
        "# Input from the user\n",
        "number = float(input(\"Enter a number: \"))\n",
        "\n",
        "# Call the function and print the result\n",
        "result = check_number(number)\n",
        "print(result)\n"
      ],
      "metadata": {
        "colab": {
          "base_uri": "https://localhost:8080/"
        },
        "id": "7Vb9fxD4tz6A",
        "outputId": "0901a443-eaac-42cc-ad54-552607906dcd"
      },
      "execution_count": null,
      "outputs": [
        {
          "output_type": "stream",
          "name": "stdout",
          "text": [
            "Enter a number: 4\n",
            "The number is positive.\n"
          ]
        }
      ]
    },
    {
      "cell_type": "code",
      "source": [
        "for i in range(1, 11):\n",
        "    print(i)\n"
      ],
      "metadata": {
        "colab": {
          "base_uri": "https://localhost:8080/"
        },
        "id": "jagbEUTwt5A0",
        "outputId": "9f3935e2-eb22-46c0-c1f3-876f88e1d135"
      },
      "execution_count": null,
      "outputs": [
        {
          "output_type": "stream",
          "name": "stdout",
          "text": [
            "1\n",
            "2\n",
            "3\n",
            "4\n",
            "5\n",
            "6\n",
            "7\n",
            "8\n",
            "9\n",
            "10\n"
          ]
        }
      ]
    },
    {
      "cell_type": "code",
      "source": [
        "# Initialize the sum variable\n",
        "sum_of_even_numbers = 0\n",
        "\n",
        "# Iterate through the numbers from 1 to 50\n",
        "for num in range(1, 51):\n",
        "    # Check if the number is even\n",
        "    if num % 2 == 0:\n",
        "        sum_of_even_numbers += num\n",
        "\n",
        "# Print the result\n",
        "print(\"The sum of all even numbers between 1 and 50 is:\", sum_of_even_numbers)\n"
      ],
      "metadata": {
        "colab": {
          "base_uri": "https://localhost:8080/"
        },
        "id": "Kzn_qvDkuHb7",
        "outputId": "c566feff-fd8f-481f-f8d9-318e8f889887"
      },
      "execution_count": null,
      "outputs": [
        {
          "output_type": "stream",
          "name": "stdout",
          "text": [
            "The sum of all even numbers between 1 and 50 is: 650\n"
          ]
        }
      ]
    },
    {
      "cell_type": "code",
      "source": [
        "def reverse_string(input_string):\n",
        "    reversed_string = \"\"\n",
        "    index = len(input_string) - 1  # Start from the last character\n",
        "\n",
        "    while index >= 0:\n",
        "        reversed_string += input_string[index]  # Add character to reversed string\n",
        "        index -= 1  # Move to the previous character\n",
        "\n",
        "    return reversed_string\n",
        "\n",
        "# Example usage\n",
        "input_string = \"Hello, World!\"\n",
        "reversed_str = reverse_string(input_string)\n",
        "print(\"Reversed String:\", reversed_str)\n"
      ],
      "metadata": {
        "colab": {
          "base_uri": "https://localhost:8080/"
        },
        "id": "foVdFC5budqK",
        "outputId": "bde4d85f-821a-415f-b85d-291e1bf07cb2"
      },
      "execution_count": null,
      "outputs": [
        {
          "output_type": "stream",
          "name": "stdout",
          "text": [
            "Reversed String: !dlroW ,olleH\n"
          ]
        }
      ]
    },
    {
      "cell_type": "code",
      "source": [
        "# Get input from the user\n",
        "num = int(input(\"Enter a number: \"))\n",
        "\n",
        "# Initialize the factorial result to 1\n",
        "factorial = 1\n",
        "\n",
        "# Check if the number is negative, positive or zero\n",
        "if num < 0:\n",
        "    print(\"Factorial is not defined for negative numbers.\")\n",
        "elif num == 0:\n",
        "    print(\"The factorial of 0 is 1.\")\n",
        "else:\n",
        "    # Calculate factorial using a while loop\n",
        "    while num > 0:\n",
        "        factorial *= num\n",
        "        num -= 1\n",
        "\n",
        "    print(f\"The factorial is {factorial}\")\n"
      ],
      "metadata": {
        "colab": {
          "base_uri": "https://localhost:8080/"
        },
        "id": "kccYcUT_u1lN",
        "outputId": "6eeff513-56ff-42c6-83b1-ce5a59c56d1d"
      },
      "execution_count": null,
      "outputs": [
        {
          "output_type": "stream",
          "name": "stdout",
          "text": [
            "Enter a number: 8\n",
            "The factorial is 40320\n"
          ]
        }
      ]
    }
  ]
}